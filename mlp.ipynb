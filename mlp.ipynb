{
 "cells": [
  {
   "cell_type": "markdown",
   "metadata": {},
   "source": [
    "# Credit-Risk-Analysis\n",
    "\n",
    "A project for the Neural Networks discipline mentored by Prof. Dr.  Germano Vasconcelos  (http://www.cin.ufpe.br/~gcv/web_lci/germano.html) at Centro de Informática, UFPE, Brazil (cin.ufpe.br).\n",
    "\n",
    "Using mlp to classifier samples as either good or bad in credit risk analysis context."
   ]
  },
  {
   "cell_type": "code",
   "execution_count": 1,
   "metadata": {
    "_cell_guid": "b1076dfc-b9ad-4769-8c92-a6c4dae69d19",
    "_kg_hide-input": false,
    "_uuid": "8f2839f25d086af736a60e9eeb907d3b93b6e0e5",
    "scrolled": false
   },
   "outputs": [
    {
     "name": "stderr",
     "output_type": "stream",
     "text": [
      "/home/msb5/anaconda3/lib/python3.6/site-packages/h5py/__init__.py:36: FutureWarning: Conversion of the second argument of issubdtype from `float` to `np.floating` is deprecated. In future, it will be treated as `np.float64 == np.dtype(float).type`.\n",
      "  from ._conv import register_converters as _register_converters\n",
      "Using TensorFlow backend.\n"
     ]
    }
   ],
   "source": [
    "import numpy as np\n",
    "import pandas as pd \n",
    "import keras\n",
    "import matplotlib.pyplot as plt\n",
    "\n",
    "from keras.models import Sequential\n",
    "from keras.layers import Dense\n",
    "from keras.callbacks import EarlyStopping\n",
    "from keras.utils.np_utils import to_categorical\n",
    "\n",
    "from sklearn.preprocessing import StandardScaler\n",
    "from sklearn.model_selection import train_test_split\n",
    "from sklearn.metrics import confusion_matrix\n",
    "from sklearn.metrics import accuracy_score, recall_score, precision_score, f1_score\n",
    "from sklearn.metrics import roc_auc_score, average_precision_score\n",
    "from sklearn.metrics import roc_curve\n",
    "\n",
    "from collections import Counter\n",
    "from scipy.stats import ks_2samp\n",
    "\n",
    "import matplotlib.pyplot as plt"
   ]
  },
  {
   "cell_type": "markdown",
   "metadata": {},
   "source": [
    "### Reading datasets"
   ]
  },
  {
   "cell_type": "code",
   "execution_count": 2,
   "metadata": {
    "_uuid": "f96552ba06f084686705cee9b78d2b0ebce42f8d"
   },
   "outputs": [],
   "source": [
    "train = pd.read_csv('train1.csv', index_col=0)\n",
    "val = pd.read_csv('val1.csv', index_col ='INDEX')\n",
    "test = pd.read_csv('test.csv',index_col = 'INDEX')"
   ]
  },
  {
   "cell_type": "markdown",
   "metadata": {},
   "source": [
    "### Splitting data into train, test and validation"
   ]
  },
  {
   "cell_type": "code",
   "execution_count": 3,
   "metadata": {
    "_uuid": "1545c7e74dee20c815ddf4f6ee9828b13a5f98a6",
    "scrolled": true
   },
   "outputs": [],
   "source": [
    "cols_train = [col for col in train.columns if col != 'y']\n",
    "cols_test = [col for col in test.columns if col != 'y']\n",
    "X_train = train[cols_train]\n",
    "y_train = train['y']\n",
    "X_test = test[cols_test]\n",
    "y_test = test['y']\n",
    "X_val = val[cols_test]\n",
    "y_val = val['y']"
   ]
  },
  {
   "cell_type": "markdown",
   "metadata": {},
   "source": [
    "### Setting and training a MLP"
   ]
  },
  {
   "cell_type": "code",
   "execution_count": 5,
   "metadata": {
    "_uuid": "8d1a25fb9030f185c38e9956673536081580df64",
    "scrolled": false
   },
   "outputs": [],
   "source": [
    "input_dim = X_train.shape[1]\n",
    "\n",
    "categorical_labels = to_categorical(y_train, num_classes=2)\n",
    "\n",
    "mlp = Sequential()\n",
    "\n",
    "mlp.add(Dense(40,activation='relu',input_dim = input_dim))\n",
    "mlp.add(Dense(40,activation='relu'))\n",
    "mlp.add(Dense(40,activation='relu'))\n",
    "mlp.add(Dense(40,activation='relu'))\n",
    "mlp.add(Dense(40,activation='relu'))\n",
    "mlp.add(Dense(40,activation='relu'))\n",
    "mlp.add(Dense(40,activation='relu'))\n",
    "mlp.add(Dense(40,activation='relu'))\n",
    "mlp.add(Dense(1, activation='sigmoid'))\n",
    "mlp.compile(optimizer='adam',loss='mean_squared_logarithmic_error')\n",
    "\n",
    "history = mlp.fit(X_train, y_train, batch_size=64, epochs= 10000,callbacks=[EarlyStopping(patience=500)], verbose=0, validation_data=[X_val,y_val])"
   ]
  },
  {
   "cell_type": "markdown",
   "metadata": {},
   "source": [
    "### Methods definitions\n",
    "1. Generate distances\n",
    "2. Compute performance metrics: accuracy, recall, precision and f1\n",
    "3. Extract final losses from train step\n",
    "4. Print a summary of metrics"
   ]
  },
  {
   "cell_type": "code",
   "execution_count": 6,
   "metadata": {
    "_uuid": "7b64dcc2f65d18ddaa37e00372de52c1d910ae8d"
   },
   "outputs": [],
   "source": [
    "def generate_dist(probas, y):\n",
    "    dist_1 = [0] * 100\n",
    "    dist_2 = [0] * 100\n",
    "    for_perc = Counter(y)\n",
    "    for i in range(1,101):\n",
    "        limiar = i/100\n",
    "        lower = y[np.where(probas <= limiar)]\n",
    "        count = Counter(lower)\n",
    "        dist_1[i-1] = count[0]\n",
    "        dist_2[i-1] = count[1]\n",
    "    return np.array(dist_1)/for_perc[0], np.array(dist_2)/for_perc[1]\n",
    "\n",
    "\n",
    "def compute_performance_metrics(y, y_pred_class, y_pred_scores=None):\n",
    "    accuracy = accuracy_score(y, y_pred_class)\n",
    "    recall = recall_score(y, y_pred_class)\n",
    "    precision = precision_score(y, y_pred_class)\n",
    "    f1 = f1_score(y, y_pred_class)\n",
    "    performance_metrics = (accuracy, recall, precision, f1)\n",
    "    if y_pred_scores is not None:\n",
    "        auroc = roc_auc_score(y, y_pred_scores)\n",
    "        aupr = average_precision_score(y, y_pred_scores)\n",
    "        gd = generate_dist(y_pred_scores,y.values)\n",
    "        ks = ks_2samp(gd[0],gd[1])[0]\n",
    "        performance_metrics = performance_metrics + (auroc, aupr, ks)\n",
    "    return performance_metrics\n",
    "\n",
    "def extract_final_losses(history):\n",
    "    \"\"\"Função para extrair o melhor loss de treino e validação.\n",
    "    \n",
    "    Argumento(s):\n",
    "    history -- Objeto retornado pela função fit do keras.\n",
    "    \n",
    "    Retorno:\n",
    "    Dicionário contendo o melhor loss de treino e de validação baseado \n",
    "    no menor loss de validação.\n",
    "    \"\"\"\n",
    "    train_loss = history.history['loss']\n",
    "    val_loss = history.history['val_loss']\n",
    "    idx_min_val_loss = np.argmin(val_loss)\n",
    "    return {'train_loss': train_loss[idx_min_val_loss], 'val_loss': val_loss[idx_min_val_loss]}\n",
    "\n",
    "def print_metrics_summary(accuracy, recall, precision, f1, auroc=None, aupr=None, ks=None):\n",
    "    print()\n",
    "    print(\"{metric:<18}{value:.4f}\".format(metric=\"Accuracy:\", value=accuracy))\n",
    "    print(\"{metric:<18}{value:.4f}\".format(metric=\"Recall:\", value=recall))\n",
    "    print(\"{metric:<18}{value:.4f}\".format(metric=\"Precision:\", value=precision))\n",
    "    print(\"{metric:<18}{value:.4f}\".format(metric=\"F1:\", value=f1))\n",
    "    if auroc is not None:\n",
    "        print(\"{metric:<18}{value:.4f}\".format(metric=\"AUROC:\", value=auroc))\n",
    "    if aupr is not None:\n",
    "        print(\"{metric:<18}{value:.4f}\".format(metric=\"AUPR:\", value=aupr))\n",
    "    if ks is not None:\n",
    "        print(\"{metric:<18}{value:.4f}\".format(metric=\"KS:\", value=ks))"
   ]
  },
  {
   "cell_type": "markdown",
   "metadata": {},
   "source": [
    "### Predicting values with trained MLP\n",
    "Displaying confusion matrix, train and validation losses, and performance summary"
   ]
  },
  {
   "cell_type": "code",
   "execution_count": 7,
   "metadata": {
    "_uuid": "3e0397875718c64db6417a1522b38301dd27e3a7"
   },
   "outputs": [
    {
     "name": "stdout",
     "output_type": "stream",
     "text": [
      "Matriz de confusão no conjunto de teste:\n",
      "[[20719 12806]\n",
      " [25904 37870]]\n",
      "\n",
      "Train Loss:       0.1024\n",
      "Validation Loss:  0.1020\n",
      "\n",
      "Performance no conjunto de teste:\n",
      "\n",
      "Accuracy:         0.6022\n",
      "Recall:           0.5938\n",
      "Precision:        0.7473\n",
      "F1:               0.6618\n",
      "AUROC:            0.6278\n",
      "AUPR:             0.7449\n",
      "KS:               0.4400\n"
     ]
    }
   ],
   "source": [
    "y_pred_scores = mlp.predict(X_test)\n",
    "y_pred_class = mlp.predict_classes(X_test)\n",
    "\n",
    "## Matriz de confusão\n",
    "print('Matriz de confusão no conjunto de teste:')\n",
    "print(confusion_matrix(y_test, y_pred_class))\n",
    "\n",
    "## Resumo dos resultados\n",
    "losses = extract_final_losses(history)\n",
    "print()\n",
    "print(\"{metric:<18}{value:.4f}\".format(metric=\"Train Loss:\", value=losses['train_loss']))\n",
    "print(\"{metric:<18}{value:.4f}\".format(metric=\"Validation Loss:\", value=losses['val_loss']))\n",
    "\n",
    "print('\\nPerformance no conjunto de teste:')\n",
    "accuracy, recall, precision, f1, auroc, aupr, ks = compute_performance_metrics(y_test, y_pred_class, np.concatenate(y_pred_scores))\n",
    "print_metrics_summary(accuracy, recall, precision, f1, auroc, aupr, ks)"
   ]
  },
  {
   "cell_type": "markdown",
   "metadata": {},
   "source": [
    "### Graphic results"
   ]
  },
  {
   "cell_type": "code",
   "execution_count": 8,
   "metadata": {
    "scrolled": true
   },
   "outputs": [
    {
     "data": {
      "image/png": "[encoded data removed]",
      "text/plain": [
       "<Figure size 432x288 with 1 Axes>"
      ]
     },
     "metadata": {},
     "output_type": "display_data"
    }
   ],
   "source": [
    "lw=2\n",
    "roc_area = roc_auc_score(y_test, y_pred_scores)\n",
    "fpr, tpr, _ = roc_curve(y_test, y_pred_scores)\n",
    "\n",
    "plt.plot(fpr, tpr, color='darkred', lw=lw, label='Primeiro (area = %0.5f)' % roc_area)\n",
    "plt.plot([0, 1], [0, 1], color='navy', lw=lw, linestyle='--')\n",
    "plt.xlim([0.0, 1.0])\n",
    "plt.ylim([0.0, 1.05])\n",
    "plt.xlabel('Taxa de Falsos Positivos')\n",
    "plt.ylabel('Taxa de Verdadeiros Positivos')\n",
    "plt.title('Curva ROC para o Classificador')\n",
    "plt.legend(loc=\"lower right\")\n",
    "plt.show()"
   ]
  }
 ],
 "metadata": {
  "kernelspec": {
   "display_name": "Python 3",
   "language": "python",
   "name": "python3"
  },
  "language_info": {
   "codemirror_mode": {
    "name": "ipython",
    "version": 3
   },
   "file_extension": ".py",
   "mimetype": "text/x-python",
   "name": "python",
   "nbconvert_exporter": "python",
   "pygments_lexer": "ipython3",
   "version": "3.8.6"
  }
 },
 "nbformat": 4,
 "nbformat_minor": 1
}
